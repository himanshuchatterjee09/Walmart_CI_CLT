{
 "cells": [
  {
   "cell_type": "code",
   "execution_count": null,
   "id": "1cc190f5-36d5-4e77-95fa-334d3c905a64",
   "metadata": {},
   "outputs": [],
   "source": [
    "import numpy as np\n",
    "import pandas as pd\n",
    "import matplotlib.pyplot as plt\n",
    "%matplotlib inline\n",
    "import seaborn as sns\n",
    "sns.set(color_codes = True)\n",
    "import scipy.stats as stats\n",
    "from scipy.stats import norm\n",
    "import warnings\n",
    "warnings.filterwarnings(\"ignore\")"
   ]
  },
  {
   "cell_type": "code",
   "execution_count": null,
   "id": "8539e81a-3d87-4770-85ee-bf7b37053f9d",
   "metadata": {},
   "outputs": [],
   "source": [
    "walmart_df = pd.read_csv(\"/Users/himanshuchatterjee/MyProject/walmart_data.csv\")"
   ]
  },
  {
   "cell_type": "code",
   "execution_count": null,
   "id": "7053cb0b-c5a0-4693-9953-2eb71f0a66ca",
   "metadata": {},
   "outputs": [],
   "source": [
    "walmart_df.head()"
   ]
  },
  {
   "cell_type": "markdown",
   "id": "1836c00c-6dd4-43f9-9f60-542760526448",
   "metadata": {},
   "source": [
    "### Data Overview\n",
    "Here, we'll first look at the Walmart dataset. We'll check the first and last few rows to understand what the data looks like."
   ]
  },
  {
   "cell_type": "code",
   "execution_count": null,
   "id": "fd2c1ea6-434d-4cc2-8820-fffb588e6660",
   "metadata": {},
   "outputs": [],
   "source": [
    "walmart_df.head()"
   ]
  },
  {
   "cell_type": "code",
   "execution_count": null,
   "id": "8575022f-8446-4e1a-98a5-9283dbc575d8",
   "metadata": {},
   "outputs": [],
   "source": [
    "walmart_df.tail()"
   ]
  },
  {
   "cell_type": "code",
   "execution_count": null,
   "id": "71b6473b-8353-4345-a31a-f1173901fb82",
   "metadata": {},
   "outputs": [],
   "source": [
    "# Shape of the dataframe\n",
    "walmart_df.shape"
   ]
  },
  {
   "cell_type": "code",
   "execution_count": null,
   "id": "bc29bcb0-028b-42ad-b3df-bafda7d0ac36",
   "metadata": {},
   "outputs": [],
   "source": [
    "# Name of each column in dataframe\n",
    "walmart_df.columns"
   ]
  },
  {
   "cell_type": "code",
   "execution_count": null,
   "id": "1d7c6415-1bb2-4ce0-acb3-7fef64b87e76",
   "metadata": {},
   "outputs": [],
   "source": [
    "walmart_df.info()"
   ]
  },
  {
   "cell_type": "code",
   "execution_count": null,
   "id": "9219ea5a-7d5e-4ef9-83bf-a211e3dea094",
   "metadata": {},
   "outputs": [],
   "source": [
    "walmart_df[walmart_df.columns[walmart_df.dtypes == 'int64']]"
   ]
  },
  {
   "cell_type": "code",
   "execution_count": null,
   "id": "6e52604a-838a-4f5c-8efb-c9210deac570",
   "metadata": {},
   "outputs": [],
   "source": [
    "walmart_df[walmart_df.columns[walmart_df.dtypes == 'object']]"
   ]
  },
  {
   "cell_type": "markdown",
   "id": "56bb84c3-6192-4efe-9ea2-ec086fed6358",
   "metadata": {},
   "source": [
    "### Finding Unique Values and Count Them"
   ]
  },
  {
   "cell_type": "code",
   "execution_count": null,
   "id": "cc0147d6-4074-49dd-bce5-d14f1c6847c5",
   "metadata": {},
   "outputs": [],
   "source": [
    "walmart_df.nunique()"
   ]
  },
  {
   "cell_type": "code",
   "execution_count": null,
   "id": "8f04264e-2e00-46dc-ab20-0f0708c66094",
   "metadata": {},
   "outputs": [],
   "source": [
    "walmart_df.nunique"
   ]
  },
  {
   "cell_type": "code",
   "execution_count": null,
   "id": "3ab28060-ed1d-4bad-a41a-44289ab5d2ad",
   "metadata": {},
   "outputs": [],
   "source": [
    "walmart_df['Age'].unique()"
   ]
  },
  {
   "cell_type": "code",
   "execution_count": null,
   "id": "8b30e379-45e8-4024-a3b0-07ae57634323",
   "metadata": {},
   "outputs": [],
   "source": [
    "walmart_df['Age'].value_counts()"
   ]
  },
  {
   "cell_type": "code",
   "execution_count": null,
   "id": "66a66cc1-4074-464a-a512-6ba2cf689465",
   "metadata": {},
   "outputs": [],
   "source": []
  },
  {
   "cell_type": "code",
   "execution_count": null,
   "id": "88bfdda5-0821-4491-8e8c-dc1c950d40a6",
   "metadata": {},
   "outputs": [],
   "source": [
    "def print_unique_values(df):\n",
    "    def myfunc(a, b):\n",
    "        return a +':'+ b\n",
    "\n",
    "    x = map(myfunc, ('apple', 'banana', 'cherry'), ('orange', 'lemon', 'pineapple'))\n",
    "    for column in df.columns:\n",
    "        unique_values = df[column].unique()\n",
    "        Unique_counts = df[column].value_counts()\n",
    "        print(f\"\\nUnique Values of {column}: \", unique_values)\n",
    "        print(f\"\\nUnique Values of {column}: \", Unique_counts)"
   ]
  },
  {
   "cell_type": "code",
   "execution_count": null,
   "id": "49087721-8a59-4ebb-8aad-5e8ef581b902",
   "metadata": {},
   "outputs": [],
   "source": [
    "# Example usage\n",
    "print_unique_values(walmart_df)"
   ]
  },
  {
   "cell_type": "markdown",
   "id": "deb381fe-533d-4684-88dd-43a9cce87070",
   "metadata": {},
   "source": [
    "## Data Cleaning\n",
    "\n",
    "We'll make some changes to the data for better analysis. For example, we'll adjust the 'Stay_In_Current_City_Years' column by removing the '+' symbol and converting it to a numeric format. But first, let's look the unique values."
   ]
  },
  {
   "cell_type": "code",
   "execution_count": null,
   "id": "c33cfd7b-47f7-4a3e-8d1b-8624895d8953",
   "metadata": {},
   "outputs": [],
   "source": [
    "walmart_df.Stay_In_Current_City_Years.unique()"
   ]
  },
  {
   "cell_type": "code",
   "execution_count": null,
   "id": "afa480e0-85e5-49d1-af41-02879fcc25b7",
   "metadata": {},
   "outputs": [],
   "source": [
    "walmart_df['Stay_In_Current_City_Years'].value_counts()"
   ]
  },
  {
   "cell_type": "code",
   "execution_count": null,
   "id": "cb638299-b167-4197-948c-8b0284a3ca09",
   "metadata": {},
   "outputs": [],
   "source": [
    "# Removing \"+\" symbol\n",
    "walmart_df.Stay_In_Current_City_Years=walmart_df.Stay_In_Current_City_Years.str.replace(\"+\",\"\")"
   ]
  },
  {
   "cell_type": "code",
   "execution_count": null,
   "id": "9b0a0fef-601c-49ba-babe-a550eba7b7a4",
   "metadata": {},
   "outputs": [],
   "source": [
    "walmart_df.Stay_In_Current_City_Years.unique()"
   ]
  },
  {
   "cell_type": "code",
   "execution_count": null,
   "id": "bc93869c-ae18-4b02-b389-2a80efc0e4e9",
   "metadata": {},
   "outputs": [],
   "source": [
    "# Assuming '+' symbols have already been removed as per your screenshot\n",
    "walmart_df['Stay_In_Current_City_Years'] = pd.to_numeric(walmart_df['Stay_In_Current_City_Years'])"
   ]
  },
  {
   "cell_type": "markdown",
   "id": "86ce3e03-303c-49fb-af56-c80de0317ea6",
   "metadata": {},
   "source": [
    "## Statistical Summary\n",
    "\n",
    "Here, we'll look at some statistics of the data. This includes things like mean, standard deviation, minimum, and maximum values. It will give us a good idea of the overall distribution and range of the data. But before of course, we are going to select data types that is numerical."
   ]
  },
  {
   "cell_type": "code",
   "execution_count": null,
   "id": "fb696126-8a93-4061-b0c8-93eeb26fa020",
   "metadata": {},
   "outputs": [],
   "source": [
    "walmart_df.select_dtypes(include=['int64']).skew()"
   ]
  },
  {
   "cell_type": "code",
   "execution_count": null,
   "id": "c40a6a11-9e8b-45e5-a535-a0028a3c6018",
   "metadata": {},
   "outputs": [],
   "source": [
    "walmart_df[walmart_df.columns[walmart_df.dtypes == 'int64']].skew()"
   ]
  },
  {
   "cell_type": "code",
   "execution_count": null,
   "id": "261c998b-be16-4992-99aa-3cc56a33ccfa",
   "metadata": {},
   "outputs": [],
   "source": [
    "walmart_df.select_dtypes(include=['int64'])"
   ]
  },
  {
   "cell_type": "code",
   "execution_count": null,
   "id": "6dc754be-a596-46fa-8c8c-509a0c4d6c02",
   "metadata": {},
   "outputs": [],
   "source": [
    "walmart_df.describe(include = 'all')"
   ]
  },
  {
   "cell_type": "code",
   "execution_count": null,
   "id": "24c0d24e-3e65-4570-9f2a-eb52695a8e5b",
   "metadata": {},
   "outputs": [],
   "source": [
    "walmart_df.describe(include = 'int64')"
   ]
  },
  {
   "cell_type": "markdown",
   "id": "7bc96c77-953c-4b5f-a7b6-82aa0f19dcdd",
   "metadata": {},
   "source": [
    "## Observations from Analysis\n",
    "\n",
    "\n",
    "There are no missing values in the data.\n",
    "\n",
    "Customers with age group of 26-35 have done more purchases (2,19,587) compared with others\n",
    "\n",
    "Customers in City_Category of B have done more purchases (2,31,173) compared with other City_Category\n",
    "Out of 5,50,000 data point. 4,14,259's gender is Male and rest are the Female.\n",
    "Customer with Minimum amount of Purchase is 12 $\n",
    "\n",
    "Customer with Maximum amount of Purchase is 23961 $\n",
    "\n",
    "Purchase might have outliers"
   ]
  },
  {
   "cell_type": "markdown",
   "id": "88106014-4f66-4393-83ed-212b393af521",
   "metadata": {},
   "source": [
    "## Missing Value Detection\n",
    "\n",
    "We'll check if there are any missing values in the data. Missing values can affect the analysis, so it's important to know if there are any. So Let's check the missing values in our dataset."
   ]
  },
  {
   "cell_type": "code",
   "execution_count": null,
   "id": "52086056-4902-4fa2-9e40-1d55ed4f63c7",
   "metadata": {},
   "outputs": [],
   "source": [
    "walmart_df.isna().sum()"
   ]
  },
  {
   "cell_type": "markdown",
   "id": "8df2442e-a62a-46e8-b022-8d58fc34b63e",
   "metadata": {},
   "source": [
    "## Duplicate Value Detection\n",
    "\n",
    "We'll also look for any duplicate entries in the data. Duplicates can skew our analysis, so we need to identify and handle them."
   ]
  },
  {
   "cell_type": "code",
   "execution_count": null,
   "id": "fb55e2f7-3429-4b87-8812-57365544100e",
   "metadata": {},
   "outputs": [],
   "source": [
    "# Checking duplicate values in the data set\n",
    "walmart_df.duplicated(subset=None,keep=False).sum() # No duplicate values in the data set"
   ]
  },
  {
   "cell_type": "markdown",
   "id": "3c13fe9e-74b5-4a60-8c61-f9c356b6f07f",
   "metadata": {},
   "source": [
    "## Data Visualization\n",
    "\n",
    "First, let's do data visualization for our numerical values."
   ]
  },
  {
   "cell_type": "code",
   "execution_count": null,
   "id": "b1d05201-ee54-4b82-9b8d-b40018b59fcf",
   "metadata": {},
   "outputs": [],
   "source": [
    "walmart_df.info()"
   ]
  },
  {
   "cell_type": "code",
   "execution_count": null,
   "id": "30a73322-e771-4d24-a8f8-3acdf2efd592",
   "metadata": {},
   "outputs": [],
   "source": [
    "walmart_df.select_dtypes(include = ['int64'])"
   ]
  },
  {
   "cell_type": "code",
   "execution_count": null,
   "id": "0299fae8-db1a-436a-a372-d10909418633",
   "metadata": {},
   "outputs": [],
   "source": [
    "walmart_df[walmart_df.columns[walmart_df.dtypes == 'object']].columns"
   ]
  },
  {
   "cell_type": "code",
   "execution_count": null,
   "id": "9f442949-7b0b-4634-a50f-22572d2954db",
   "metadata": {},
   "outputs": [],
   "source": [
    "[col for col in walmart_df[walmart_df.columns[walmart_df.dtypes == 'object']].columns ]"
   ]
  },
  {
   "cell_type": "code",
   "execution_count": null,
   "id": "835ea3a9-f8ef-4a86-b290-5e640238019f",
   "metadata": {},
   "outputs": [],
   "source": [
    "[col for col in walmart_df.select_dtypes(include = ['int64']).columns]\n"
   ]
  },
  {
   "cell_type": "code",
   "execution_count": null,
   "id": "181cbbaf-4c42-4143-8656-0b3debb30934",
   "metadata": {},
   "outputs": [],
   "source": [
    "[col for col in walmart_df.select_dtypes(include = ['int64']).columns]"
   ]
  },
  {
   "cell_type": "markdown",
   "id": "844053a2-cc1c-4e60-9670-8eb8d7ad401a",
   "metadata": {},
   "source": [
    "## Data Visualization with Numerical Features"
   ]
  },
  {
   "cell_type": "markdown",
   "id": "296bb508-2d10-470e-9005-e626ed71cf50",
   "metadata": {},
   "source": [
    "In this part, we'll create visual representations of the numerical data. This will include graphs showing distributions of various numerical features like occupation, years in the current city, marital status, and purchase amounts. Graphs help us see patterns and trends more easily than looking at numbers alone."
   ]
  },
  {
   "cell_type": "code",
   "execution_count": null,
   "id": "3284c010-6a05-408c-ab27-ee393bef4608",
   "metadata": {},
   "outputs": [],
   "source": [
    "[col for col in walmart_df.select_dtypes(include = ['int64']).columns]"
   ]
  },
  {
   "cell_type": "code",
   "execution_count": null,
   "id": "36173109-0576-4c75-b453-d4e843cb19ec",
   "metadata": {},
   "outputs": [],
   "source": [
    "walmart_df[walmart_df.columns[walmart_df.dtypes == 'int64']]"
   ]
  },
  {
   "cell_type": "code",
   "execution_count": null,
   "id": "137e3cde-24f7-4e16-ac12-a651dc6030db",
   "metadata": {},
   "outputs": [],
   "source": [
    "[col for col in walmart_df.columns[walmart_df.dtypes == 'int64']]"
   ]
  },
  {
   "cell_type": "code",
   "execution_count": null,
   "id": "2a0da9b2-2303-4c21-9484-b22a74a91930",
   "metadata": {},
   "outputs": [],
   "source": [
    "walmart_df.select_dtypes(include = ['int64'])"
   ]
  },
  {
   "cell_type": "code",
   "execution_count": null,
   "id": "22f4eb2b-1fc0-46bb-b124-d735f9f7a68a",
   "metadata": {},
   "outputs": [],
   "source": [
    "import seaborn as sns\n",
    "import matplotlib.pyplot as plt\n",
    "from scipy.stats import norm"
   ]
  },
  {
   "cell_type": "code",
   "execution_count": null,
   "id": "20effb2d-0601-4e77-9b9a-c346c4ad69ba",
   "metadata": {},
   "outputs": [],
   "source": [
    "# Create a 2x2 grid of subplots\n",
    "fig,axs = plt.subplots(nrows = 2, ncols = 2, figsize = (12,10))\n",
    "fig.subplots_adjust(top=0.9)  # Adjust the top spacing of the subplots\n",
    "\n",
    "# Plot distribution plots for each specified column\n",
    "sns.distplot(walmart_df['Occupation'], kde = True,ax = axs[0,0], color=\"#900000\")\n",
    "sns.distplot(walmart_df['Stay_In_Current_City_Years'], kde = True,ax = axs[0,1], color=\"#900000\")\n",
    "sns.distplot(walmart_df['Marital_Status'], kde=True, ax=axs[1,0], color=\"#900000\")\n",
    "\n",
    "# Plotting a distribution plot for the 'Purchase' variable with normal curve fit\n",
    "sns.distplot(walmart_df['Purchase'], ax=axs[1,1], color=\"#900000\", fit=norm)\n",
    "\n",
    "# Fitting the target variable to the normal curve \n",
    "mu, sigma = norm.fit(walmart_df['Purchase'])\n",
    "print(\"The mu (mean) is {} and sigma (standard deviation) is {} for the curve\".format(mu, sigma))\n",
    "# Adding a legend for the 'Purchase' distribution plot\n",
    "axs[1,1].legend(['Normal Distribution (μ = {:.2f}, σ = {:.2f})'.format(mu, sigma)], loc='best')\n",
    "\n",
    "# Show the plots\n",
    "plt.show()"
   ]
  },
  {
   "cell_type": "code",
   "execution_count": null,
   "id": "966c8ed0-a136-4e38-b09c-7dd313cb0912",
   "metadata": {},
   "outputs": [],
   "source": [
    "import plotly.graph_objects as go\n",
    "from plotly.subplots import make_subplots\n",
    "\n",
    "# Create subplots\n",
    "fig = make_subplots(\n",
    "    rows=4, cols=2,\n",
    "    subplot_titles=(\"Gender\", \"Age\", \"Occupation\", \"City Category\",\n",
    "                    \"Stay In Current City Years\", \"Marital Status\", \"Product Category\", \"Purchase\")\n",
    ")\n",
    "\n",
    "# Add histograms for each subplot\n",
    "fig.add_trace(go.Histogram(x=walmart_df['Gender']), row=1, col=1)\n",
    "fig.add_trace(go.Histogram(x=walmart_df['Age']), row=1, col=2)\n",
    "fig.add_trace(go.Histogram(x=walmart_df['Occupation']), row=2, col=1)\n",
    "fig.add_trace(go.Histogram(x=walmart_df['City_Category']), row=2, col=2)\n",
    "fig.add_trace(go.Histogram(x=walmart_df['Stay_In_Current_City_Years']), row=3, col=1)\n",
    "fig.add_trace(go.Histogram(x=walmart_df['Marital_Status']), row=3, col=2)\n",
    "fig.add_trace(go.Histogram(x=walmart_df['Product_Category']), row=4, col=1)\n",
    "fig.add_trace(go.Histogram(x=walmart_df['Purchase']), row=4, col=2)\n",
    "\n",
    "# Update layout if needed\n",
    "fig.update_layout(height=1200, width=1000, title_text=\"Count Plots\")\n",
    "fig.update_layout(showlegend=False)  # Hide the legend if not needed\n",
    "\n",
    "# Show the figure\n",
    "fig.show()"
   ]
  },
  {
   "cell_type": "markdown",
   "id": "79b9c723-9e4b-4b5b-b198-0337f43a58b8",
   "metadata": {},
   "source": [
    "# Observations:\n",
    "\n",
    "Many buyers are male while the minority are female. Difference is due to the categories on sale during Black Friday, evaluating a particular category may change the count between genders.\n",
    "\n",
    "There are 7 categories defined to classify the age of the buyers\n",
    "\n",
    "Majority of the buyers are single\n",
    "\n",
    "Display of the occupation of the buyers. Occupation 8 has extremely low count compared with the others; it can be ignored for the calculation since it won't affect much the result.\n",
    "\n",
    "Majority of the products are in category 1, 5 and 8. The low number categories can be combined into a single category to greatly reduce the complexity of the problem.\n",
    "\n",
    "Higher count might represent the urban area indicates more population in City_Category.\n",
    "\n",
    "Most buyers have one year living in the city. Remaining categories are in uniform distribution"
   ]
  },
  {
   "cell_type": "markdown",
   "id": "2e961e3e-6893-441b-880e-41d23f5d3751",
   "metadata": {},
   "source": [
    "## Data Visualization with Categorical Features\n",
    "Here, we'll focus on the categorical data, like gender, age, and city category. We'll use different types of charts to show how these categories relate to purchases. This will help us understand which categories have the most impact on purchasing behavior."
   ]
  },
  {
   "cell_type": "code",
   "execution_count": null,
   "id": "79a507dc-ef26-4de3-aa79-bfbd3d848596",
   "metadata": {},
   "outputs": [],
   "source": [
    "fig, axis = plt.subplots(nrows=2, ncols=2, figsize=(12, 10))\n",
    "fig.subplots_adjust(top=1.2)\n",
    "\n",
    "sns.boxplot(data=walmart_df, x=\"Occupation\", ax=axis[0,0])\n",
    "sns.boxplot(data=walmart_df, x=\"Stay_In_Current_City_Years\", orient='h', ax=axis[0,1])\n",
    "sns.boxplot(data=walmart_df, x=\"Purchase\", orient='h', ax=axis[1,0])\n",
    "\n",
    "\n",
    "plt.show()"
   ]
  },
  {
   "cell_type": "markdown",
   "id": "724e3003-5b31-4c04-8194-aad0742b4a23",
   "metadata": {},
   "source": [
    "## Purchase & Our Features"
   ]
  },
  {
   "cell_type": "code",
   "execution_count": null,
   "id": "f2f16d4a-e5f8-4390-b237-3c39f0e38288",
   "metadata": {},
   "outputs": [],
   "source": [
    "attrs = ['Gender', 'Age', 'Occupation', 'City_Category', 'Stay_In_Current_City_Years', 'Marital_Status', 'Product_Category']\n",
    "sns.set(color_codes = True)\n",
    "\n",
    "fig, axs = plt.subplots(nrows=3, ncols=2, figsize=(20, 16))\n",
    "fig.subplots_adjust(top=1.3)\n",
    "\n",
    "count = 0\n",
    "\n",
    "for row in range(3):\n",
    "    for col in range(2):\n",
    "        sns.boxplot(data = walmart_df, y = 'Purchase', x = attrs[count], ax=axs[row,col])\n",
    "        axs[row,col].set_title(f\"Purchase vs {attrs[count]}\", pad=12, fontsize=13)\n",
    "        count += 1\n",
    "plt.show()\n",
    "\n",
    "plt.figure(figsize=(10, 8))\n",
    "sns.boxplot(data=walmart_df, y='Purchase', x=attrs[-1])\n",
    "plt.show()"
   ]
  },
  {
   "cell_type": "code",
   "execution_count": null,
   "id": "5a9bd41b-ac4e-4e3d-9696-32f711ca1cf5",
   "metadata": {},
   "outputs": [],
   "source": [
    "sns.set(color_codes = True)\n",
    "fig, axs = plt.subplots(nrows=2, ncols=2, figsize=(20, 6))\n",
    "\n",
    "fig.subplots_adjust(top=1.5)\n",
    "sns.boxplot(data=walmart_df, y='Purchase', x='Gender', hue='Age', ax=axs[0,0])\n",
    "sns.boxplot(data=walmart_df, y='Purchase', x='Gender', hue='City_Category', ax=axs[0,1])\n",
    "\n",
    "sns.boxplot(data=walmart_df, y='Purchase', x='Gender', hue='Marital_Status', ax=axs[1,0])\n",
    "sns.boxplot(data=walmart_df, y='Purchase', x='Gender', hue='Stay_In_Current_City_Years', ax=axs[1,1])\n",
    "axs[1,1].legend(loc='upper left')\n",
    "\n",
    "plt.show()"
   ]
  },
  {
   "cell_type": "markdown",
   "id": "8bfd7216-2cba-41c4-ba20-426e873a274d",
   "metadata": {},
   "source": [
    "## 1. Are women spending more money per transaction than men? Why or Why not?\n",
    "\n"
   ]
  },
  {
   "cell_type": "code",
   "execution_count": null,
   "id": "2353c389-f9a0-4c6b-9ba5-32327acf9483",
   "metadata": {},
   "outputs": [],
   "source": [
    "# Average amount spend per customer for Male and Female\n",
    "\n",
    "amt_df = walmart_df.groupby(['Gender'])[['Purchase']].sum()"
   ]
  },
  {
   "cell_type": "code",
   "execution_count": null,
   "id": "5559fed6-0793-4880-b93e-c0a9a06dd966",
   "metadata": {},
   "outputs": [],
   "source": [
    "amt_df"
   ]
  },
  {
   "cell_type": "code",
   "execution_count": null,
   "id": "07836d47-677f-4e4c-9ff8-d033cbc2eb12",
   "metadata": {},
   "outputs": [],
   "source": [
    "# Average amount spend per customer for Male and Female\n",
    "amt_df = walmart_df.groupby(['User_ID', 'Gender'])[['Purchase']].sum()\n",
    "avg_amt_df = amt_df.reset_index()\n",
    "avg_amt_df\n",
    "\n",
    "# Gender wise value counts in avg_amt_df\n",
    "avg_amt_df['Gender'].value_counts()"
   ]
  },
  {
   "cell_type": "code",
   "execution_count": null,
   "id": "4c435319-f84c-468d-b033-8eb22c793292",
   "metadata": {},
   "outputs": [],
   "source": [
    "gen_df = walmart_df.groupby(['User_ID','Gender'])[['Purchase']].sum()\n",
    "gen_df = gen_df.reset_index()"
   ]
  },
  {
   "cell_type": "code",
   "execution_count": null,
   "id": "9f6c040f-b6b5-40e8-b713-13d76beaa398",
   "metadata": {},
   "outputs": [],
   "source": [
    "gen_df['Gender'].value_counts()"
   ]
  },
  {
   "cell_type": "code",
   "execution_count": null,
   "id": "c31b7c72-c161-4c2c-8a61-636c18691270",
   "metadata": {},
   "outputs": [],
   "source": [
    "# histogram of average amount spend for each customer - Male\n",
    "gen_df[gen_df['Gender'] == 'M']['Purchase'].hist(bins = 1000)\n",
    "plt.show()"
   ]
  },
  {
   "cell_type": "code",
   "execution_count": null,
   "id": "b89b686f-69c3-439a-bc05-2178565b1f95",
   "metadata": {},
   "outputs": [],
   "source": [
    "# histogram of average amount spend for each customer - Female\n",
    "avg_amt_df[avg_amt_df['Gender']=='F']['Purchase'].hist(bins=100)\n",
    "plt.show()"
   ]
  },
  {
   "cell_type": "code",
   "execution_count": null,
   "id": "b24d8886-a2c2-4c2d-b7b0-3ca2d7df35ae",
   "metadata": {},
   "outputs": [],
   "source": [
    "male_avg = avg_amt_df[avg_amt_df['Gender']=='M']['Purchase'].mean()\n",
    "female_avg = avg_amt_df[avg_amt_df['Gender']=='F']['Purchase'].mean()\n",
    "\n",
    "print(\"Average amount spend by Male customers: {:.2f}\".format(male_avg))\n",
    "print(\"Average amount spend by Female customers: {:.2f}\".format(female_avg))"
   ]
  },
  {
   "cell_type": "markdown",
   "id": "8680121e-8fa3-4600-afb1-7002e9ccfaf5",
   "metadata": {},
   "source": [
    "## 2. Confidence intervals and distribution of the mean of the expenses by female and male customers"
   ]
  },
  {
   "cell_type": "code",
   "execution_count": null,
   "id": "e40e36a5-a645-4ef7-b3fe-c8dde00e842a",
   "metadata": {},
   "outputs": [],
   "source": [
    "male_df = avg_amt_df[avg_amt_df['Gender']=='M']\n",
    "female_df = avg_amt_df[avg_amt_df['Gender']=='F']"
   ]
  },
  {
   "cell_type": "code",
   "execution_count": null,
   "id": "f0e29f46-35a6-4658-bdd0-4a57e6b396af",
   "metadata": {},
   "outputs": [],
   "source": [
    "genders = [\"M\", \"F\"]\n",
    "\n",
    "male_sample_size = 3000\n",
    "female_sample_size = 1500\n",
    "num_repitions = 1000\n",
    "male_means = []\n",
    "female_means = []"
   ]
  },
  {
   "cell_type": "code",
   "execution_count": null,
   "id": "005e054c-3db6-4834-8884-0c2a7f950cf0",
   "metadata": {},
   "outputs": [],
   "source": [
    "male_df.head()"
   ]
  },
  {
   "cell_type": "code",
   "execution_count": null,
   "id": "532a66d9-6e62-4f6f-9f18-5730c1de300f",
   "metadata": {},
   "outputs": [],
   "source": [
    "male_df.sample(male_sample_size,replace=True)"
   ]
  },
  {
   "cell_type": "code",
   "execution_count": null,
   "id": "70548975-2ed5-41f2-a053-5b0a246366a1",
   "metadata": {},
   "outputs": [],
   "source": [
    "for _ in range(num_repitions):\n",
    "    male_mean = male_df.sample(male_sample_size,replace=True)['Purchase'].mean()\n",
    "    female_mean = female_df.sample(female_sample_size, replace=True)['Purchase'].mean()\n",
    "\n",
    "    male_means.append(male_mean)\n",
    "    female_means.append(female_mean)\n",
    "    "
   ]
  },
  {
   "cell_type": "code",
   "execution_count": null,
   "id": "7da39728-c3a0-40a5-87e7-f35906f139f6",
   "metadata": {},
   "outputs": [],
   "source": [
    "fig,axis = plt.subplots(nrows = 1, ncols = 2, figsize=(20,6))\n",
    "axis[0].hist(male_means, bins = 100)\n",
    "axis[1].hist(female_means, bins = 100)\n",
    "\n",
    "axis[0].set_title(\"Male - Distribution of means, Sample size: 3000\")\n",
    "axis[1].set_title(\"Female - Distribution of means, Sample size: 1500\")\n",
    "\n",
    "plt.show()"
   ]
  },
  {
   "cell_type": "code",
   "execution_count": null,
   "id": "107b14c2-67d9-4e90-aaa2-a235c9dc997d",
   "metadata": {},
   "outputs": [],
   "source": [
    "print(\"\\n\")\n",
    "print(\"Population mean - Mean of sample means of amount spend for Male: {:.2f}\".format(np.mean(male_means)))\n",
    "print(\"Population mean - Mean of sample means of amount spend for Female: {:.2f}\".format(np.mean(female_means)))"
   ]
  },
  {
   "cell_type": "code",
   "execution_count": null,
   "id": "3a58c926-68fb-4f4e-8544-ce7b8d5b546c",
   "metadata": {},
   "outputs": [],
   "source": [
    "print(\"\\nMale - Sample mean: {:.2f} Sample std: {:.2f}\".format(male_df['Purchase'].mean(), male_df['Purchase'].std()))\n",
    "print(\"Female - Sample mean: {:.2f} Sample std: {:.2f}\".format(female_df['Purchase'].mean(), female_df['Purchase'].std()))"
   ]
  },
  {
   "cell_type": "code",
   "execution_count": null,
   "id": "41b961a4-8d1d-404c-a0ab-4890c4811c76",
   "metadata": {},
   "outputs": [],
   "source": [
    "male_margin_of_error_clt = 1.64*male_df['Purchase'].std()/np.sqrt(len(male_df))\n",
    "male_sample_mean = male_df['Purchase'].mean()\n",
    "male_lower_lim = male_sample_mean - male_margin_of_error_clt\n",
    "male_upper_lim = male_sample_mean + male_margin_of_error_clt\n",
    "\n",
    "female_margin_of_error_clt = 1.64*female_df['Purchase'].std()/np.sqrt(len(female_df))\n",
    "female_sample_mean = female_df['Purchase'].mean()\n",
    "female_lower_lim = female_sample_mean - female_margin_of_error_clt\n",
    "female_upper_lim = female_sample_mean + female_margin_of_error_clt\n",
    "\n",
    "print(\"Male confidence interval of means: ({:.2f}, {:.2f})\".format(male_lower_lim, male_upper_lim))\n",
    "print(\"Female confidence interval of means: ({:.2f}, {:.2f})\".format(female_lower_lim, female_upper_lim))"
   ]
  },
  {
   "cell_type": "code",
   "execution_count": null,
   "id": "b1d8eae7-af61-48e0-9e0a-39be7adf3207",
   "metadata": {},
   "outputs": [],
   "source": [
    "male_margin_of_error_clt = 1.96*male_df['Purchase'].std()/np.sqrt(len(male_df))\n",
    "male_sample_mean = male_df['Purchase'].mean()\n",
    "male_lower_lim = male_sample_mean - male_margin_of_error_clt\n",
    "male_upper_lim = male_sample_mean + male_margin_of_error_clt\n",
    "\n",
    "female_margin_of_error_clt = 1.96*female_df['Purchase'].std()/np.sqrt(len(female_df))\n",
    "female_sample_mean = female_df['Purchase'].mean()\n",
    "female_lower_lim = female_sample_mean - female_margin_of_error_clt\n",
    "female_upper_lim = female_sample_mean + female_margin_of_error_clt\n",
    "\n",
    "print(\"Male confidence interval of means: ({:.2f}, {:.2f})\".format(male_lower_lim, male_upper_lim))\n",
    "print(\"Female confidence interval of means: ({:.2f}, {:.2f})\".format(female_lower_lim, female_upper_lim))"
   ]
  },
  {
   "cell_type": "code",
   "execution_count": null,
   "id": "1ea737f4-38be-44c2-8d07-9a9597a4c3aa",
   "metadata": {},
   "outputs": [],
   "source": [
    "male_margin_of_error_clt = 2.58*male_df['Purchase'].std()/np.sqrt(len(male_df))\n",
    "male_sample_mean = male_df['Purchase'].mean()\n",
    "male_lower_lim = male_sample_mean - male_margin_of_error_clt\n",
    "male_upper_lim = male_sample_mean + male_margin_of_error_clt\n",
    "\n",
    "female_margin_of_error_clt = 2.58*female_df['Purchase'].std()/np.sqrt(len(female_df))\n",
    "female_sample_mean = female_df['Purchase'].mean()\n",
    "female_lower_lim = female_sample_mean - female_margin_of_error_clt\n",
    "female_upper_lim = female_sample_mean + female_margin_of_error_clt\n",
    "\n",
    "print(\"Male confidence interval of means: ({:.2f}, {:.2f})\".format(male_lower_lim, male_upper_lim))\n",
    "print(\"Female confidence interval of means: ({:.2f}, {:.2f})\".format(female_lower_lim, female_upper_lim))"
   ]
  },
  {
   "cell_type": "code",
   "execution_count": null,
   "id": "40f8637b-549e-48eb-873a-db78fbcdcb48",
   "metadata": {},
   "outputs": [],
   "source": [
    "amt_df = walmart_df.groupby(['User_ID', 'Marital_Status'])[['Purchase']].sum()\n",
    "avg_amt_df = amt_df.reset_index()\n",
    "avg_amt_df"
   ]
  },
  {
   "cell_type": "code",
   "execution_count": null,
   "id": "4799d583-2e5c-42dc-8d81-25e1a3db1c8e",
   "metadata": {},
   "outputs": [],
   "source": [
    "avg_amt_df['Marital_Status'].value_counts()"
   ]
  },
  {
   "cell_type": "code",
   "execution_count": null,
   "id": "b6700715-5fcc-405f-8cd5-b8cfdb6c9152",
   "metadata": {},
   "outputs": [],
   "source": [
    "married_samp_size = 3000\n",
    "married_samp_size = 2000\n",
    "num_repitions = 1000\n",
    "married_means = []\n",
    "unmarried_means = []\n",
    "\n",
    "for _ in range(num_repitions):\n",
    "    married_mean = avg_amt_df[avg_amt_df['Marital_Status']==1].sample(married_samp_size, replace=True)['Purchase'].mean()\n",
    "    unmarried_mean = avg_amt_df[avg_amt_df['Marital_Status']==0].sample(married_samp_size, replace=True)['Purchase'].mean()\n",
    "    \n",
    "    married_means.append(married_mean)\n",
    "    unmarried_means.append(unmarried_mean)\n",
    "    \n",
    "    \n",
    "fig, axis = plt.subplots(nrows=1, ncols=2, figsize=(20, 6))\n",
    "\n",
    "axis[0].hist(married_means, bins=100)\n",
    "axis[1].hist(unmarried_means, bins=100)\n",
    "axis[0].set_title(\"Married - Distribution of means, Sample size: 3000\")\n",
    "axis[1].set_title(\"Unmarried - Distribution of means, Sample size: 2000\")\n",
    "\n",
    "plt.show()\n",
    "print(\"\\n\")\n",
    "print(\"Population mean - Mean of sample means of amount spend for Married: {:.2f}\".format(np.mean(married_means)))\n",
    "print(\"Population mean - Mean of sample means of amount spend for Unmarried: {:.2f}\".format(np.mean(unmarried_means)))\n",
    "\n",
    "print(\"\\nMarried - Sample mean: {:.2f} Sample std: {:.2f}\".format(avg_amt_df[avg_amt_df['Marital_Status']==1]['Purchase'].mean(), avg_amt_df[avg_amt_df['Marital_Status']==1]['Purchase'].std()))\n",
    "print(\"Unmarried - Sample mean: {:.2f} Sample std: {:.2f}\".format(avg_amt_df[avg_amt_df['Marital_Status']==0]['Purchase'].mean(), avg_amt_df[avg_amt_df['Marital_Status']==0]['Purchase'].std()))\n"
   ]
  },
  {
   "cell_type": "code",
   "execution_count": null,
   "id": "b823f690-9de0-4e8d-bbea-447014533b0a",
   "metadata": {},
   "outputs": [],
   "source": [
    "for val in [\"Married\", \"Unmarried\"]:\n",
    "    \n",
    "    new_val = 1 if val == \"Married\" else 0\n",
    "    \n",
    "    new_df = avg_amt_df[avg_amt_df['Marital_Status']==new_val] \n",
    "    \n",
    "    margin_of_error_clt = 1.64*new_df['Purchase'].std()/np.sqrt(len(new_df))\n",
    "    sample_mean = new_df['Purchase'].mean()\n",
    "    lower_lim = sample_mean - margin_of_error_clt\n",
    "    upper_lim = sample_mean + margin_of_error_clt\n",
    "\n",
    "    print(\"{} confidence interval of means: ({:.2f}, {:.2f})\".format(val, lower_lim, upper_lim))"
   ]
  },
  {
   "cell_type": "code",
   "execution_count": null,
   "id": "1d0653c3-6e8e-48ef-8279-3f2d848df24c",
   "metadata": {},
   "outputs": [],
   "source": [
    "for val in [\"Married\", \"Unmarried\"]:\n",
    "    \n",
    "    new_val = 1 if val == \"Married\" else 0\n",
    "    \n",
    "    new_df = avg_amt_df[avg_amt_df['Marital_Status']==new_val] \n",
    "    \n",
    "    margin_of_error_clt = 2.58*new_df['Purchase'].std()/np.sqrt(len(new_df))\n",
    "    sample_mean = new_df['Purchase'].mean()\n",
    "    lower_lim = sample_mean - margin_of_error_clt\n",
    "    upper_lim = sample_mean + margin_of_error_clt\n",
    "\n",
    "    print(\"{} confidence interval of means: ({:.2f}, {:.2f})\".format(val, lower_lim, upper_lim))"
   ]
  },
  {
   "cell_type": "code",
   "execution_count": null,
   "id": "c056429f-7f80-4ffe-b547-a5443c1d367e",
   "metadata": {},
   "outputs": [],
   "source": [
    "amt_df = walmart_df.groupby(['User_ID', 'Age'])[['Purchase']].sum()\n",
    "avg_amt_df = amt_df.reset_index()\n",
    "avg_amt_df"
   ]
  },
  {
   "cell_type": "code",
   "execution_count": null,
   "id": "9282c4d1-2014-4146-989a-16ee5db7d7e2",
   "metadata": {},
   "outputs": [],
   "source": [
    "avg_amt_df['Age'].value_counts()"
   ]
  },
  {
   "cell_type": "code",
   "execution_count": null,
   "id": "f978ff68-9930-4529-a6f7-b738b8f1b9ae",
   "metadata": {},
   "outputs": [],
   "source": [
    "sample_size = 200\n",
    "num_repitions = 1000"
   ]
  },
  {
   "cell_type": "code",
   "execution_count": null,
   "id": "fd3fdb42-7de4-493b-8f46-35a06478c5db",
   "metadata": {},
   "outputs": [],
   "source": [
    "all_means = {}"
   ]
  },
  {
   "cell_type": "code",
   "execution_count": null,
   "id": "d34a21e4-9dda-4560-989e-0bb63e233b14",
   "metadata": {},
   "outputs": [],
   "source": [
    "age_intervals = ['26-35', '36-45', '18-25', '46-50', '51-55', '55+', '0-17']\n",
    "for age_interval in age_intervals:\n",
    "    all_means[age_interval] = []"
   ]
  },
  {
   "cell_type": "code",
   "execution_count": null,
   "id": "e4e44add-3ab4-4422-8275-9f1ac3882270",
   "metadata": {},
   "outputs": [],
   "source": [
    "all_means"
   ]
  },
  {
   "cell_type": "code",
   "execution_count": null,
   "id": "bcd0df0d-767f-44cc-b677-918e88b62375",
   "metadata": {},
   "outputs": [],
   "source": [
    "for age_interval in age_intervals:\n",
    "    for _ in range(num_repitions):\n",
    "        mean = avg_amt_df[avg_amt_df['Age']==age_interval].sample(sample_size, replace=True)['Purchase'].mean()\n",
    "        all_means[age_interval].append(mean)"
   ]
  },
  {
   "cell_type": "code",
   "execution_count": null,
   "id": "e6c643d1-a308-48b0-944d-9b045c0d27db",
   "metadata": {},
   "outputs": [],
   "source": [
    "for val in ['26-35', '36-45', '18-25', '46-50', '51-55', '55+', '0-17']:\n",
    "    \n",
    "    new_df = avg_amt_df[avg_amt_df['Age']==val] \n",
    "    \n",
    "    margin_of_error_clt = 1.64*new_df['Purchase'].std()/np.sqrt(len(new_df))\n",
    "    sample_mean = new_df['Purchase'].mean()\n",
    "    lower_lim = sample_mean - margin_of_error_clt\n",
    "    upper_lim = sample_mean + margin_of_error_clt\n",
    "    \n",
    "    print(\"For age {}, confidence interval of means: ({:.2f}, {:.2f})\".format(val, lower_lim, upper_lim))"
   ]
  },
  {
   "cell_type": "code",
   "execution_count": null,
   "id": "dda1c1b8-15db-4a67-97ec-5fcb41877a33",
   "metadata": {},
   "outputs": [],
   "source": [
    "for val in ['26-35', '36-45', '18-25', '46-50', '51-55', '55+', '0-17']:\n",
    "    \n",
    "    new_df = avg_amt_df[avg_amt_df['Age']==val] \n",
    "    \n",
    "    margin_of_error_clt = 1.96*new_df['Purchase'].std()/np.sqrt(len(new_df))\n",
    "    sample_mean = new_df['Purchase'].mean()\n",
    "    lower_lim = sample_mean - margin_of_error_clt\n",
    "    upper_lim = sample_mean + margin_of_error_clt\n",
    "\n",
    "    print(\"For age {}, confidence interval of means: ({:.2f}, {:.2f})\".format(val, lower_lim, upper_lim))"
   ]
  },
  {
   "cell_type": "code",
   "execution_count": null,
   "id": "7736be87-8729-4bcd-87fd-4321382a429f",
   "metadata": {},
   "outputs": [],
   "source": [
    "for val in ['26-35', '36-45', '18-25', '46-50', '51-55', '55+', '0-17']:\n",
    "    \n",
    "    new_df = avg_amt_df[avg_amt_df['Age']==val] \n",
    "    \n",
    "    margin_of_error_clt = 2.58*new_df['Purchase'].std()/np.sqrt(len(new_df))\n",
    "    sample_mean = new_df['Purchase'].mean()\n",
    "    lower_lim = sample_mean - margin_of_error_clt\n",
    "    upper_lim = sample_mean + margin_of_error_clt\n",
    "\n",
    "    print(\"For age {}, confidence interval of means: ({:.2f}, {:.2f})\".format(val, lower_lim, upper_lim))"
   ]
  },
  {
   "cell_type": "markdown",
   "id": "38db48aa-4756-408c-aebb-16c4a37115b8",
   "metadata": {},
   "source": [
    "Final Insights\n",
    "After analyzing the data, we have gathered key insights about customer spending patterns based on age, gender, marital status, city category, and product categories.\n",
    "\n",
    "Actionable Insights\n",
    "For Age feature, we observed that ~ 80% of the customer's who belong to the age group 25-40 (40%: 26-35, 18%: 18-25, 20%: 36-45) tend to spend the most.\n",
    "\n",
    "For Gender feature, ~75% of the number of purchases are made by Male customer's and rest of the 25% is done by female customer's. This tells us the Male consumers are the major contributors to the number of sales for the retail store.On average the male gender spends more money on purchase contrary to female, and it is possible to also observe this trend by adding the total value of purchase.\n",
    "\n",
    "Average amount spend by Male customers: 9,25,408.28\n",
    "Average amount spend by Female customers: 7,12,217.18\n",
    "When we combined Purchase and Marital_Status for analysis (60% are Single, 40% are Married). We came to know that Single Men spend the most during the Black Friday. It also tells that Men tend to spend less once they are married. It maybe because of the added responsibilities.\n",
    "\n",
    "There is an interesting column Stay_In_Current_City_Years, after analyzing this column we came to know the people who have spent 1 year in the city tend to spend the most. This is understandable as, people who have spent more than 4 years in the city are generally well settled and are less interested in buying new things as compared to the people new to the city, who tend to buy more (35% Staying in the city since 1 year, 18% since 2 years, 17% since 3 years).\n",
    "\n",
    "When examining the City_Category which city the product was purchased to our surprise, even though the city B is majorly responsible for the overall sales income, but when it comes to the above product, it majorly purchased in the city C.\n",
    "\n",
    "Total of 20 product_categories are there. Product_Category - 1, 5, 8, & 11 have highest purchasing frequency.\n",
    "\n",
    "There are 20 differnent types of Occupation's in the city\n",
    "\n",
    "Confidence Intervals\n",
    "Now using the Central Limit Theorem for the population:\n",
    "\n",
    "Average amount spend by male customers is 9,25,408.28\n",
    "Average amount spend by female customers is 7,12,217.18\n",
    "Now we can infer about the population that, 90% of the times:\n",
    "\n",
    "Average amount spend by male customer will lie in between: (900471.15, 950217.65)\n",
    "Average amount spend by female customer will lie in between: (679584.51, 744464.28)\n",
    "Now we can infer about the population that, 95% of the times:\n",
    "\n",
    "Average amount spend by male customer will lie in between: (895617.83, 955070.97)\n",
    "Average amount spend by female customer will lie in between: (673254.77, 750794.02)\n",
    "Now we can infer about the population that, 99% of the times:\n",
    "\n",
    "Average amount spend by male customer will lie in between: (886214.53, 964474.27)\n",
    "Average amount spend by female customer will lie in between: (660990.91, 763057.88)\n",
    "Confidence Interval by Marital_Status\n",
    "\n",
    "Now we can infer about the population that, 90% of the times:\n",
    "\n",
    "Married confidence interval of means: (812686.46, 874367.13)\n",
    "Unmarried confidence interval of means: (853938.67, 907212.90)\n",
    "Now we can infer about the population that, 95% of the times:\n",
    "\n",
    "Married confidence interval of means: (806668.83, 880384.76)\n",
    "Unmarried confidence interval of means: (848741.18, 912410.38)\n",
    "Now we can infer about the population that, 99% of the times:\n",
    "\n",
    "Married confidence interval of means: (795009.68, 892043.91)\n",
    "Unmarried confidence interval of means: (838671.05, 922480.51)\n",
    "Confidence Interval by Age\n",
    "\n",
    "Now we can infer about the population that, 90% of the times:\n",
    "\n",
    "For age 26-35, confidence interval of means: (952320.12, 1026998.51)\n",
    "For age 36-45, confidence interval of means: (832542.56, 926788.86)\n",
    "For age 18-25, confidence interval of means: (810323.44, 899402.80)\n",
    "For age 46-50, confidence interval of means: (726410.64, 858686.93)\n",
    "For age 51-55, confidence interval of means: (703953.00, 822448.85)\n",
    "For age 55+, confidence interval of means: (487192.99, 592201.50)\n",
    "For age 0-17, confidence interval of means: (542553.13, 695182.50)\n",
    "Now we can infer about the population that, 95% of the times:\n",
    "\n",
    "For age 26-35, confidence interval of means: (945034.42, 1034284.21)\n",
    "For age 36-45, confidence interval of means: (823347.80, 935983.62)\n",
    "For age 18-25, confidence interval of means: (801632.78, 908093.46)\n",
    "For age 46-50, confidence interval of means: (713505.63, 871591.93)\n",
    "For age 51-55, confidence interval of means: (692392.43, 834009.42)\n",
    "For age 55+, confidence interval of means: (476948.26, 602446.23)\n",
    "For age 0-17, confidence interval of means: (527662.46, 710073.17)\n",
    "Now we can infer about the population that, 99% of the times:\n",
    "\n",
    "For age 26-35, confidence interval of means: (930918.39, 1048400.25)\n",
    "For age 36-45, confidence interval of means: (805532.95, 953798.47)\n",
    "For age 18-25, confidence interval of means: (784794.60, 924931.63)\n",
    "For age 46-50, confidence interval of means: (688502.19, 896595.37)\n",
    "For age 51-55, confidence interval of means: (669993.82, 856408.03)\n",
    "For age 55+, confidence interval of means: (457099.09, 622295.40)\n",
    "For age 0-17, confidence interval of means: (498811.78, 738923.84)\n",
    "Recommendations\n",
    "Men spent more money than women, So company should focus on retaining the female customers and getting more female customers.\n",
    "\n",
    "Product_Category - 1, 5, 8, & 11 have highest purchasing frequency. it means these are the products in these categories are liked more by customers. Company can focus on selling more of these products or selling more of the products which are purchased less.\n",
    "\n",
    "Unmarried customers spend more money than married customers, So company should focus on acquisition of married customers.\n",
    "\n",
    "Customers in the age 25-40 spend more money than the others, So company should focus on acquisition of customers of other age groups.\n",
    "\n",
    "The tier-2 city called B has the highest number of population, management should open more outlets in the tier-1 and tier-2 cities like A and C in order to increase the buisness."
   ]
  },
  {
   "cell_type": "code",
   "execution_count": null,
   "id": "835a1f09-59fa-4088-b64a-ace1d1d21080",
   "metadata": {},
   "outputs": [],
   "source": []
  }
 ],
 "metadata": {
  "kernelspec": {
   "display_name": "Python 3 (ipykernel)",
   "language": "python",
   "name": "python3"
  },
  "language_info": {
   "codemirror_mode": {
    "name": "ipython",
    "version": 3
   },
   "file_extension": ".py",
   "mimetype": "text/x-python",
   "name": "python",
   "nbconvert_exporter": "python",
   "pygments_lexer": "ipython3",
   "version": "3.12.2"
  }
 },
 "nbformat": 4,
 "nbformat_minor": 5
}
